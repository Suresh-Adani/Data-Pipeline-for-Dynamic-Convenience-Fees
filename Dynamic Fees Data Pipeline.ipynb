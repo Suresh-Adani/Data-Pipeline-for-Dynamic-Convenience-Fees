{
 "cells": [
  {
   "cell_type": "code",
   "execution_count": 1,
   "id": "6edae6cf",
   "metadata": {},
   "outputs": [],
   "source": [
    "import pandas as pd\n",
    "import numpy as np\n",
    "from sklearn.impute import SimpleImputer"
   ]
  },
  {
   "cell_type": "code",
   "execution_count": 2,
   "id": "c1172758",
   "metadata": {},
   "outputs": [],
   "source": [
    "def clean(data):\n",
    "    data=data.drop(['rewards_burned','convenience_fee_bookings'],axis=1)\n",
    "    data['city']=data['city'].replace('','Unknown')\n",
    "    data['coupon_value']=data['coupon_value'].fillna(0)\n",
    "    data=data.dropna()\n",
    "    return data"
   ]
  },
  {
   "cell_type": "code",
   "execution_count": 3,
   "id": "20ad0aa4",
   "metadata": {},
   "outputs": [],
   "source": [
    "def transform(data):\n",
    "    popular_destinations=['IXL', 'KUU', 'DHM', 'PYG', 'SLV', 'AGR', 'JAI', 'UDR', 'SXR', 'ATQ', 'COK', 'HBX', 'TIR', 'GOI', 'GOI', 'PNQ', 'UDR', 'IXZ']\n",
    "    metro_cities=['BOM', 'DEL', 'BLR', 'HYD', 'MAA', 'CCU', 'PNQ', 'AMD', 'STV', 'VTZ']\n",
    "    rich_cities=[\"Goa\",\"Sikkim\",\"Delhi\",\"Chandigarh\",\"Haryana\",\"Mumbai\", \"Delhi\", \"Kolkata\", \"Bangalore\", \"Hyderabad\", \"Chennai\", \"Ahmedabad\", \"Pune\", \"Surat\", \"Visakhapatnam\", \"Jaipur\", \"Lucknow\", \"Nagpur\", \"Indore\", \"Patna\"]\n",
    "    df=data.copy()\n",
    "    df['isMetroCity'] = df.apply(lambda row: 1 if row['arrival_station'] in metro_cities or row['departure_station'] in metro_cities else 0,axis=1) \n",
    "    df['isPopularDestination'] = df.apply(lambda row: 1 if row['arrival_station'] in popular_destinations or row['departure_station'] in popular_destinations else 0,axis=1)\n",
    "    df['isRichRegion'] = df.apply(lambda row: 1 if row['region'] in rich_cities or row['city'] in rich_cities or row['country']!='India' else 0,axis=1)\n",
    "    df['arrival_date'] = None\n",
    "    df['departure_date'] = None\n",
    "    df['arrival_time']=None\n",
    "    df['departure_time']=None\n",
    "    for i, row in df.iterrows():\n",
    "        if row['platform1'] == 'APP':\n",
    "            arrival_time = row['arrival_datetime'][2:]\n",
    "        else:\n",
    "            arrival_time = row['arrival_datetime']\n",
    "        arrival_date = pd.to_datetime(arrival_time, format='%Y-%m-%dT%H:%M:%S.%fZ').date()\n",
    "        df.at[i, 'arrival_date'] = arrival_date\n",
    "    for i, row in df.iterrows():\n",
    "        if row['platform1'] == 'APP':\n",
    "            arrival_time = row['arrival_datetime'][2:]\n",
    "        else:\n",
    "            arrival_time = row['arrival_datetime']\n",
    "        arrival_date = pd.to_datetime(arrival_time, format='%Y-%m-%dT%H:%M:%S.%fZ').time()\n",
    "        df.at[i, 'arrival_time'] = arrival_date\n",
    "    for i, row in df.iterrows():\n",
    "        if row['platform1'] == 'APP':\n",
    "            departure_time = row['departure_datetime'][2:]\n",
    "        else:\n",
    "            departure_time = row['departure_datetime']\n",
    "        departure_date = pd.to_datetime(departure_time, format='%Y-%m-%dT%H:%M:%S.%fZ').date()\n",
    "        df.at[i, 'departure_date'] = departure_date\n",
    "    for i, row in df.iterrows():\n",
    "        if row['platform1'] == 'APP':\n",
    "            arrival_time = row['departure_datetime'][2:]\n",
    "        else:\n",
    "            arrival_time = row['departure_datetime']\n",
    "        arrival_date = pd.to_datetime(arrival_time, format='%Y-%m-%dT%H:%M:%S.%fZ').time()\n",
    "        df.at[i, 'departure_time'] = arrival_date\n",
    "    df=df.rename(columns={'event_time':'event_datetime'})\n",
    "    df['event_date'] = pd.to_datetime(df['event_datetime']).dt.date\n",
    "    df['event_time'] = pd.to_datetime(df['event_datetime']).dt.time\n",
    "    df=df.drop(['event_datetime','arrival_datetime','departure_datetime'],axis=1)\n",
    "    return df"
   ]
  },
  {
   "cell_type": "code",
   "execution_count": 4,
   "id": "7721872e",
   "metadata": {},
   "outputs": [],
   "source": [
    "def merge_GA_Synapse(df):\n",
    "    GA_data=df\n",
    "    Synapse_data=pd.read_csv(\"Synapse_Results.csv\")\n",
    "    result=pd.merge(GA_data,Synapse_data,left_on='user_id',right_on='loyaltyId')\n",
    "    result=result.drop('loyaltyId',axis=1)\n",
    "    result=result.drop_duplicates()\n",
    "    return result"
   ]
  },
  {
   "cell_type": "code",
   "execution_count": 5,
   "id": "5ee92a1a",
   "metadata": {},
   "outputs": [],
   "source": [
    "def get_urgency(df):\n",
    "    df['departure_date']=pd.to_datetime(df['departure_date'])\n",
    "    df['event_date']=pd.to_datetime(df['event_date'])\n",
    "    df['urgency_days'] = (df['departure_date'] - df['event_date']).dt.days\n",
    "    return df"
   ]
  },
  {
   "cell_type": "code",
   "execution_count": 6,
   "id": "a56ed574",
   "metadata": {},
   "outputs": [],
   "source": [
    "def get_visitations(df):\n",
    "    df.sort_values(by=[\"user_id\", \"event_date\", \"event_time\"], inplace=True)\n",
    "    df['visitations']=None\n",
    "    user_dict={}\n",
    "    for i,row in df.iterrows():\n",
    "        if (row['user_id'],row['departure_date'],row['departure_station'],row['arrival_station']) not in user_dict:\n",
    "            user_dict[(row['user_id'],row['departure_date'],row['departure_station'],row['arrival_station'])]=1\n",
    "            df.at[i,'visitations']=user_dict[(row['user_id'],row['departure_date'],row['departure_station'],row['arrival_station'])]\n",
    "        elif (row['user_id'],row['departure_date'],row['departure_station'],row['arrival_station']) in user_dict and row['isbooked']==0:\n",
    "            user_dict[(row['user_id'],row['departure_date'],row['departure_station'],row['arrival_station'])]+=1\n",
    "            df.at[i,'visitations']=user_dict[(row['user_id'],row['departure_date'],row['departure_station'],row['arrival_station'])]\n",
    "        elif (row['user_id'],row['departure_date'],row['departure_station'],row['arrival_station']) in user_dict and row['isbooked']==1:\n",
    "            user_dict[(row['user_id'],row['departure_date'],row['departure_station'],row['arrival_station'])]+=1\n",
    "            df.at[i,'visitations']=user_dict[(row['user_id'],row['departure_date'],row['departure_station'],row['arrival_station'])]\n",
    "            user_dict[(row['user_id'],row['departure_date'],row['departure_station'],row['arrival_station'])]=0\n",
    "    return df"
   ]
  },
  {
   "cell_type": "code",
   "execution_count": 7,
   "id": "aeaa47da",
   "metadata": {},
   "outputs": [],
   "source": [
    "def DataPipeline(df):\n",
    "    df=clean(df)\n",
    "    df=transform(df)\n",
    "    df=merge_GA_Synapse(df)\n",
    "    df=get_urgency(df)\n",
    "    df=get_visitations(df)\n",
    "    return df"
   ]
  },
  {
   "cell_type": "code",
   "execution_count": null,
   "id": "2aa12266",
   "metadata": {},
   "outputs": [],
   "source": []
  }
 ],
 "metadata": {
  "kernelspec": {
   "display_name": "Python 3 (ipykernel)",
   "language": "python",
   "name": "python3"
  },
  "language_info": {
   "codemirror_mode": {
    "name": "ipython",
    "version": 3
   },
   "file_extension": ".py",
   "mimetype": "text/x-python",
   "name": "python",
   "nbconvert_exporter": "python",
   "pygments_lexer": "ipython3",
   "version": "3.10.9"
  }
 },
 "nbformat": 4,
 "nbformat_minor": 5
}
